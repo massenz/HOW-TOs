{
 "cells": [
  {
   "cell_type": "code",
   "execution_count": 1,
   "metadata": {
    "collapsed": true
   },
   "outputs": [],
   "source": [
    "import boto3\n",
    "import jinja2\n",
    "import os\n",
    "import time\n",
    "\n",
    "\n",
    "s3_client = boto3.client('s3')\n",
    "\n",
    "jinja_env = jinja2.Environment(loader=jinja2.FileSystemLoader('../templates/voldemort'))"
   ]
  },
  {
   "cell_type": "markdown",
   "metadata": {},
   "source": [
    "### Manage Buckets\n",
    "\n",
    "List all existing buckets"
   ]
  },
  {
   "cell_type": "code",
   "execution_count": 2,
   "metadata": {},
   "outputs": [
    {
     "name": "stdout",
     "output_type": "stream",
     "text": [
      "['cf-templates-ug0jprpbbar6-us-west-1', 'cloudtrail-023262102897', 'phl-recent', 'voldemort', 'wishlist-aws']\n"
     ]
    }
   ],
   "source": [
    "response = s3_client.list_buckets()\n",
    "bucket_names = []\n",
    "if 'Buckets' in response:\n",
    "    for bucket in response['Buckets']:\n",
    "        bucket_names.append(bucket['Name'])\n",
    "        \n",
    "print(bucket_names)"
   ]
  },
  {
   "cell_type": "markdown",
   "metadata": {},
   "source": [
    "Check if the bucket already exists, if not create it; then list all the files in it:"
   ]
  },
  {
   "cell_type": "code",
   "execution_count": 3,
   "metadata": {},
   "outputs": [
    {
     "name": "stdout",
     "output_type": "stream",
     "text": [
      "`userdetails-aws` created\n"
     ]
    }
   ],
   "source": [
    "CLUSTER = 'sample-cluster-aws'\n",
    "\n",
    "if not CLUSTER in bucket_names:\n",
    "    response = s3_client.create_bucket(\n",
    "        Bucket=CLUSTER,\n",
    "        CreateBucketConfiguration={\n",
    "            'LocationConstraint': 'us-west-1'\n",
    "        }\n",
    "    )\n",
    "    print(\"`{}` created\".format(CLUSTER))\n",
    "else:\n",
    "    print(\"`{}` already exists\".format(CLUSTER))\n",
    "\n",
    "s3 = boto3.resource('s3')\n",
    "bucket = s3.Bucket(CLUSTER)\n",
    "\n",
    "for obj in bucket.objects.all():\n",
    "    print(obj.key)"
   ]
  },
  {
   "cell_type": "markdown",
   "metadata": {},
   "source": [
    "### Upload a file to the Bucket"
   ]
  },
  {
   "cell_type": "code",
   "execution_count": 4,
   "metadata": {},
   "outputs": [
    {
     "name": "stdout",
     "output_type": "stream",
     "text": [
      "<!-- Voldemort Cluster configuration file\n",
      "\n",
      "     Cluster: userdetails-aws\n",
      "     Configuration file rendered at Thu Jun 29 17:00:21 2017\n",
      "     Nodes: 7\n",
      "     Partitions per node: 4\n",
      "\n",
      "  -->\n",
      "\n",
      "<cluster>\n",
      "    <name>userdetails-aws</name>\n",
      "    \n",
      "    <server>\n",
      "        <id>0</id>\n",
      "        <host>node0.example.com</host>\n",
      "        <http-port>8081</http-port>\n",
      "        <socket-port>6666</socket-port>\n",
      "        <partitions>0,7,14,21</partitions>\n",
      "    </server>\n",
      "    \n",
      "    <server>\n",
      "        <id>1</id>\n",
      "        <host>node1.example.com</host>\n",
      "        <http-port>8081</http-port>\n",
      "        <socket-port>6666</socket-port>\n",
      "        <partitions>1,8,15,22</partitions>\n",
      "    </server>\n",
      "    \n",
      "    <server>\n",
      "      ... \n",
      "\n",
      "Saved at: /tmp/userdetails-aws.xml\n"
     ]
    }
   ],
   "source": [
    "# Let's render the cluster.xml file first\n",
    "filename = '{cluster}.xml'.format(cluster=CLUSTER)\n",
    "\n",
    "template = jinja_env.get_template('cluster.xml')\n",
    "\n",
    "prefix = 'node'\n",
    "domain = 'example.com'\n",
    "nodes = 7\n",
    "\n",
    "render = template.render(\n",
    "        hostname_prefix=prefix,\n",
    "        cluster=CLUSTER,\n",
    "        hosted_zone=domain,\n",
    "        number_of_nodes=nodes,\n",
    "        partitions=4,\n",
    "        now=time.ctime()\n",
    ")\n",
    "\n",
    "tmpfile = os.path.join('/tmp', filename)\n",
    "with open(tmpfile, 'wt') as dest:\n",
    "    dest.write(render)\n",
    "    \n",
    "print(render[:900], ' ...', '\\n\\nSaved at:', tmpfile)"
   ]
  },
  {
   "cell_type": "code",
   "execution_count": 5,
   "metadata": {},
   "outputs": [],
   "source": [
    "def ProgressCallable(object):\n",
    "    def __init__(self, filename):\n",
    "        self.filename = filename\n",
    "        \n",
    "    def __call__(self, bytescount):\n",
    "        print(\"{} uploaded: {}\".format(self.filename, bytescount))\n",
    "\n",
    "        \n",
    "bucket.upload_file(Filename=tmpfile, Key='cluster.xml', Callback=ProgressCallable(filename))"
   ]
  },
  {
   "cell_type": "markdown",
   "metadata": {},
   "source": [
    "Verify the file is there:"
   ]
  },
  {
   "cell_type": "code",
   "execution_count": 6,
   "metadata": {
    "collapsed": true
   },
   "outputs": [],
   "source": [
    "for obj in bucket.objects.all():\n",
    "    if obj.key == 'cluster.xml':\n",
    "        break\n",
    "else:\n",
    "    print(\"File not found\")"
   ]
  },
  {
   "cell_type": "markdown",
   "metadata": {
    "collapsed": true
   },
   "source": [
    "Finally add the other \"statically\" defined files for the server and store properties:"
   ]
  },
  {
   "cell_type": "code",
   "execution_count": 7,
   "metadata": {},
   "outputs": [],
   "source": [
    "base_dir = os.path.join(\"..\", \"containers\", \"voldemort\", CLUSTER)\n",
    "\n",
    "if not os.path.exists(base_dir):\n",
    "    raise ValueError(\"Folder {} missing\".format(base_dir))\n",
    "\n",
    "for ff in ['stores.xml', 'server.properties']:\n",
    "    bucket.upload_file(Filename=os.path.join(base_dir, ff), Key=ff, Callback=ProgressCallable(ff))\n",
    "\n",
    "# Finally, let's check all is well:\n",
    "uploaded_files = []\n",
    "for obj in bucket.objects.all():\n",
    "    uploaded_files.append(obj.key)\n",
    "    \n",
    "for ff in ['stores.xml', 'server.properties', 'cluster.xml']:\n",
    "    assert ff in uploaded_files"
   ]
  },
  {
   "cell_type": "markdown",
   "metadata": {},
   "source": [
    "### Clean up\n",
    "\n",
    "Once done with the exercise, remove the bucket, so it can be used again:"
   ]
  },
  {
   "cell_type": "code",
   "execution_count": 13,
   "metadata": {},
   "outputs": [
    {
     "name": "stdout",
     "output_type": "stream",
     "text": [
      "An error occurred (NoSuchBucket) when calling the DeleteObjects operation: The specified bucket does not exist\n"
     ]
    }
   ],
   "source": [
    "objects_to_delete={'Objects': [{ 'Key': fname } for fname in uploaded_files]}\n",
    "\n",
    "try:\n",
    "    response = bucket.delete_objects(Delete=objects_to_delete)\n",
    "    if 'Errors' in response:\n",
    "        print(response['Errors'])\n",
    "    else:\n",
    "        response = bucket.delete()\n",
    "        print(response.get('Errors', \"No errors\"))\n",
    "except Exception as ex:\n",
    "    print(ex)"
   ]
  }
 ],
 "metadata": {
  "kernelspec": {
   "display_name": "Python 3",
   "language": "python",
   "name": "python3"
  },
  "language_info": {
   "codemirror_mode": {
    "name": "ipython",
    "version": 3
   },
   "file_extension": ".py",
   "mimetype": "text/x-python",
   "name": "python",
   "nbconvert_exporter": "python",
   "pygments_lexer": "ipython3",
   "version": "3.5.1"
  }
 },
 "nbformat": 4,
 "nbformat_minor": 2
}
