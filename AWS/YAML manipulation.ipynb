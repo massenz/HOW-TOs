{
 "cells": [
  {
   "cell_type": "markdown",
   "metadata": {},
   "source": [
    "# YAML Template manipulations\n",
    "\n",
    "Below a few examples and explanation for the code that will eventually be implemented in our scripts to inject arbitrary environment variables into the YAML CF template and, when deployed, to the container(s)."
   ]
  },
  {
   "cell_type": "code",
   "execution_count": 13,
   "metadata": {
    "collapsed": true
   },
   "outputs": [],
   "source": [
    "from itertools import zip_longest\n",
    "\n",
    "import json\n",
    "import yaml\n",
    "import os\n",
    "import re"
   ]
  },
  {
   "cell_type": "markdown",
   "metadata": {},
   "source": [
    "Some constants to make working on templates and configuration files easier:"
   ]
  },
  {
   "cell_type": "code",
   "execution_count": 22,
   "metadata": {
    "collapsed": true
   },
   "outputs": [],
   "source": [
    "TEMPLATE = 'sample-template.yml'\n",
    "SIMPLE_ENV = 'simple.env'\n",
    "OUT = 'template-updated.yml'\n",
    "VREP_ENV = 'vrep-example.env'\n",
    "\n",
    "# RegEx pattern for the key = value parsing.\n",
    "KEY_VALUE_PATTERN = re.compile(r'^\\s*(\\S.*)\\s*=\\s*(\\S.*)$')\n",
    "\n",
    "# RegEx pattern for OS Env substitution.\n",
    "ENV_VAR_PATTER = re.compile(r'\\${(?P<name>\\S+)}')"
   ]
  },
  {
   "cell_type": "markdown",
   "metadata": {},
   "source": [
    "This is what the simple configuration (`simple.env`) file looks like:\n",
    "```\n",
    "# Demo file for YAML manipulation\n",
    "\n",
    "var = val\n",
    "\n",
    "# A comment:\n",
    "var2=val2\n",
    "\n",
    "\n",
    "     var3    =val3\n",
    "```\n",
    "\n",
    "\n",
    "## Convenience methods:"
   ]
  },
  {
   "cell_type": "code",
   "execution_count": 23,
   "metadata": {},
   "outputs": [
    {
     "name": "stdout",
     "output_type": "stream",
     "text": [
      "[{'Value': 'val', 'Name': 'var'}, {'Value': 'val2', 'Name': 'var2'}, {'Value': 'val3', 'Name': 'var3'}]\n",
      "('HOME',) /Users/mmassenzio\n"
     ]
    }
   ],
   "source": [
    "def line2tuple(line):\n",
    "    if not re.match(KEY_VALUE_PATTERN, line):\n",
    "        raise ValueError(\"{} does not match a `key = value` pattern\".format(line))\n",
    "    key, value = line.split('=')\n",
    "    match = re.match(ENV_VAR_PATTER, value.strip())\n",
    "    if match:\n",
    "        value = os.getenv(match.group('name'), value)\n",
    "    return key.strip(), value.strip()\n",
    "\n",
    "def load_env(envfile):\n",
    "    \"\"\" Reads in a file listing key/value pairs into a dict\n",
    "    \n",
    "        Each line in the file is assumed to be a single `key = value`\n",
    "        pair; leading and trailing spaces are ignored; and continuation lines\n",
    "        are currently __not__ supported.\n",
    "        \n",
    "        In other words:\n",
    "        \n",
    "        ```\n",
    "         key = a long long, really \\\n",
    "           really, long value\n",
    "        ```\n",
    "        \n",
    "        will __not__ work.\n",
    "        \n",
    "        :param envfile: the name of the file to parse\n",
    "        :type envfile: str\n",
    "        \n",
    "        :return: a list of Name/Value dicts, compatible with CloudFormation\n",
    "            templates format\n",
    "        :rtype: list of dict\n",
    "    \"\"\"\n",
    "    with open(envfile) as env:\n",
    "        kv = [line2tuple(line.strip()) for line in env.readlines() \\\n",
    "              if len(line.strip()) and not line.startswith('#')]\n",
    "    return [dict(zip_longest(['Name', 'Value'], pair)) for pair in kv]\n",
    "\n",
    "# We can read a file and generate a dictionary\n",
    "# compatible with the CF Template format like this:\n",
    "print(load_env(SIMPLE_ENV))\n",
    "\n",
    "# Example of how OS Env vars are found:\n",
    "match = re.match(ENV_VAR_PATTER, \"${HOME}\")\n",
    "print(match.groups(), os.getenv(match.group('name'), '-'))"
   ]
  },
  {
   "cell_type": "markdown",
   "metadata": {},
   "source": [
    "## Load YAML file and parse it"
   ]
  },
  {
   "cell_type": "code",
   "execution_count": 24,
   "metadata": {
    "collapsed": true
   },
   "outputs": [],
   "source": [
    "with open(TEMPLATE) as ym:\n",
    "    data = yaml.load(ym)"
   ]
  },
  {
   "cell_type": "code",
   "execution_count": 25,
   "metadata": {},
   "outputs": [
    {
     "name": "stdout",
     "output_type": "stream",
     "text": [
      "Environment:\n",
      "[\n",
      "    {\n",
      "        \"Value\": {\n",
      "            \"Ref\": \"ImagePort\"\n",
      "        },\n",
      "        \"Name\": \"SERVER_PORT\"\n",
      "    }\n",
      "]\n"
     ]
    }
   ],
   "source": [
    "assert len(data['Resources']['taskdefinition']['Properties']['ContainerDefinitions']) == 1\n",
    "ctr_defs = data['Resources']['taskdefinition']['Properties']['ContainerDefinitions'][0]\n",
    "\n",
    "yaml_env = ctr_defs.get('Environment')\n",
    "\n",
    "print('Environment:', json.dumps(yaml_env, indent=4), sep='\\n')"
   ]
  },
  {
   "cell_type": "markdown",
   "metadata": {},
   "source": [
    "## Modify the environment\n",
    "\n",
    "This simply requires loading the values from the file and appending them to the existing ones already in the template.\n",
    "\n",
    "`TODO: parse existing ones and replacing those whose \"Name\" matches`\n",
    "\n",
    "`TODO: OS env variables substitution, e.g., ${USER}`\n",
    "\n",
    "`TODO: CLI args subsitution, e.g., #port with the value of --port`"
   ]
  },
  {
   "cell_type": "code",
   "execution_count": 26,
   "metadata": {},
   "outputs": [
    {
     "name": "stdout",
     "output_type": "stream",
     "text": [
      "[\n",
      "    {\n",
      "        \"Name\": \"SERVER_PORT\",\n",
      "        \"Value\": {\n",
      "            \"Ref\": \"ImagePort\"\n",
      "        }\n",
      "    },\n",
      "    {\n",
      "        \"Name\": \"PROPERTIES\",\n",
      "        \"Value\": \"aws-applicator.properties\"\n",
      "    },\n",
      "    {\n",
      "        \"Name\": \"VREP_HOME\",\n",
      "        \"Value\": \"/opt/replicator\"\n",
      "    },\n",
      "    {\n",
      "        \"Name\": \"server.port\",\n",
      "        \"Value\": \"30395\"\n",
      "    },\n",
      "    {\n",
      "        \"Name\": \"VERSION\",\n",
      "        \"Value\": \"1.6.0\"\n",
      "    },\n",
      "    {\n",
      "        \"Name\": \"BUILD\",\n",
      "        \"Value\": \"17K4-b443ef8\"\n",
      "    },\n",
      "    {\n",
      "        \"Name\": \"HEALTHCHECK\",\n",
      "        \"Value\": \"/admin/healthcheck\"\n",
      "    },\n",
      "    {\n",
      "        \"Name\": \"user.home\",\n",
      "        \"Value\": \"/Users/mmassenzio\"\n",
      "    }\n",
      "]\n"
     ]
    }
   ],
   "source": [
    "# Set some env vars just to prove this does work\n",
    "#\n",
    "# NOTE - values MUST be strings, even if the values are numbers.\n",
    "os.environ['PORT'] = '30395'\n",
    "os.environ['BUILD'] = '17K4-b443ef8'\n",
    "\n",
    "env_vars = load_env(VREP_ENV)\n",
    "ctr_defs['Environment'] = yaml_env + env_vars\n",
    "\n",
    "print(json.dumps(yaml_env + env_vars, indent=4, sort_keys=True))"
   ]
  },
  {
   "cell_type": "code",
   "execution_count": 27,
   "metadata": {
    "collapsed": true
   },
   "outputs": [],
   "source": [
    "# Put it back in the template.\n",
    "data['Resources']['taskdefinition']['Properties']['ContainerDefinitions'] = [ctr_defs]\n",
    "\n",
    "# Write out the template to disk.\n",
    "with open(OUT, 'wt') as template_out:\n",
    "    yaml.dump(data, template_out)"
   ]
  },
  {
   "cell_type": "markdown",
   "metadata": {},
   "source": [
    "## Full (modified) template\n",
    "\n",
    "This is in the `OUT` file:"
   ]
  },
  {
   "cell_type": "code",
   "execution_count": 28,
   "metadata": {},
   "outputs": [
    {
     "name": "stdout",
     "output_type": "stream",
     "text": [
      "...\n",
      " ContainerDefinitions:\n",
      "      - Cpu: {Ref: ContainerCpu}\n",
      "        Environment:\n",
      "        - Name: SERVER_PORT\n",
      "          Value: {Ref: ImagePort}\n",
      "        - {Name: PROPERTIES, Value: aws-applicator.properties}\n",
      "        - {Name: VREP_HOME, Value: /opt/replicator}\n",
      "        - {Name: server.port, Value: '30395'}\n",
      "        - {Name: VERSION, Value: 1.6.0}\n",
      "        - {Name: BUILD, Value: 17K4-b443ef8}\n",
      "        - {Name: HEALTHCHECK, Value: /admin/healthcheck}\n",
      "        - {Name: KAFKA, Value: 'tcp://node0.example.com'}\n",
      "        - {Name: user.home, Value: /Users/mmassenzio}\n",
      "        Essential: 'true'\n",
      "        Image: {Ref: Image}\n",
      "        LogConfiguration:\n",
      "          LogDriver: awslogs\n",
      "          Options:\n",
      "            awslogs-group: {Ref: CloudwatchLogsGroup}\n",
      "            awslogs-region: {Ref: 'AWS::Region'}\n",
      "            awslogs-stream-prefix: {Ref: 'AWS::StackName'}\n",
      "        Memory: {Ref: ContainerMemory}\n",
      "        MountPoints:\n",
      "        - {ContainerPath: /dev/xvda1, SourceVolume: ebs-vol1}\n",
      "        Name: {R \n",
      "...\n"
     ]
    }
   ],
   "source": [
    "with open(OUT) as template_out:\n",
    "    generated = template_out.read()\n",
    "\n",
    "pos = generated.find('ContainerDefinitions')\n",
    "\n",
    "print('...\\n', generated[pos:pos+1000], '\\n...')"
   ]
  },
  {
   "cell_type": "code",
   "execution_count": null,
   "metadata": {
    "collapsed": true
   },
   "outputs": [],
   "source": []
  }
 ],
 "metadata": {
  "kernelspec": {
   "display_name": "Python 3",
   "language": "python",
   "name": "python3"
  },
  "language_info": {
   "codemirror_mode": {
    "name": "ipython",
    "version": 3
   },
   "file_extension": ".py",
   "mimetype": "text/x-python",
   "name": "python",
   "nbconvert_exporter": "python",
   "pygments_lexer": "ipython3",
   "version": "3.5.1"
  }
 },
 "nbformat": 4,
 "nbformat_minor": 2
}
